











# initialize library
import pandas as pd
import numpy as np
import matplotlib as mp
import seaborn as sb
import tensorflow as tf

# initialize path
BMR_DATA = "BMR_Dataset.csv"
CAL_DATA = "calories.csv"











# load data with pandas

bmr_set = pd.read_csv(BMR_DATA)
cal_set = pd.read_csv(CAL_DATA)


bmr_set.head(5)


cal_set.head(5)


# Check wheter the bmr_set is normally distributed
bmr_set.describe()


# Check for missing values
print(bmr_set.isna().sum())


















